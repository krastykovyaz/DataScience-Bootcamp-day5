{
 "cells": [
  {
   "cell_type": "markdown",
   "id": "relevant-illustration",
   "metadata": {},
   "source": [
    "## "
   ]
  },
  {
   "cell_type": "code",
   "execution_count": 56,
   "id": "democratic-supplement",
   "metadata": {},
   "outputs": [],
   "source": [
    "import pandas as pd"
   ]
  },
  {
   "cell_type": "code",
   "execution_count": 57,
   "id": "animal-personal",
   "metadata": {},
   "outputs": [],
   "source": [
    "df = pd.read_csv('../data/feed-views.log', sep='\\t',  names=['datetime', 'user'], header=None)"
   ]
  },
  {
   "cell_type": "code",
   "execution_count": 58,
   "id": "dangerous-softball",
   "metadata": {},
   "outputs": [],
   "source": [
    "df['datetime'] = pd.to_datetime(df.datetime, format='%Y-%m-%d %H:%M:%S.%f')"
   ]
  },
  {
   "cell_type": "code",
   "execution_count": 59,
   "id": "compound-sacramento",
   "metadata": {},
   "outputs": [],
   "source": [
    "df = (df\n",
    " .assign(year=lambda x: x.datetime.dt.year)\n",
    " .assign(month=lambda x: x.datetime.dt.month)\n",
    " .assign(day=lambda x: x.datetime.dt.day)\n",
    " .assign(hour=lambda x: x.datetime.dt.hour)\n",
    " .assign(minute=lambda x: x.datetime.dt.minute)\n",
    " .assign(second=lambda x: x.datetime.dt.second))"
   ]
  },
  {
   "cell_type": "markdown",
   "id": "grateful-stuart",
   "metadata": {},
   "source": [
    "## daytime"
   ]
  },
  {
   "cell_type": "code",
   "execution_count": 60,
   "id": "revised-confirmation",
   "metadata": {},
   "outputs": [],
   "source": [
    "mapping = {'00:00:00': '', '03:59:59': 'night', '06:59:59': 'early morning', '10:59:59': 'morning', '16:59:59': 'afternoon', '19:59:59': 'early evening', '23:59:59': 'evening'}\n",
    "times = list(map(lambda x: pd.to_datetime(x), mapping))\n",
    "values = list(mapping.values())[1:]\n",
    "mapping = dict(zip(pd.IntervalIndex.from_tuples(list(zip(times, times[1:]))), values))\n",
    "df['daytime'] = pd.cut(pd.to_datetime(df.datetime.dt.strftime('%H:%M:%S')), bins=pd.IntervalIndex(list(mapping)), labels=values).map(mapping)"
   ]
  },
  {
   "cell_type": "code",
   "execution_count": 61,
   "id": "incident-miami",
   "metadata": {},
   "outputs": [],
   "source": [
    "df.set_index('user', inplace=True)"
   ]
  },
  {
   "cell_type": "code",
   "execution_count": 55,
   "id": "rational-champion",
   "metadata": {},
   "outputs": [
    {
     "data": {
      "text/html": [
       "<div>\n",
       "<style scoped>\n",
       "    .dataframe tbody tr th:only-of-type {\n",
       "        vertical-align: middle;\n",
       "    }\n",
       "\n",
       "    .dataframe tbody tr th {\n",
       "        vertical-align: top;\n",
       "    }\n",
       "\n",
       "    .dataframe thead th {\n",
       "        text-align: right;\n",
       "    }\n",
       "</style>\n",
       "<table border=\"1\" class=\"dataframe\">\n",
       "  <thead>\n",
       "    <tr style=\"text-align: right;\">\n",
       "      <th></th>\n",
       "      <th>min</th>\n",
       "      <th>max</th>\n",
       "    </tr>\n",
       "    <tr>\n",
       "      <th>daytime</th>\n",
       "      <th></th>\n",
       "      <th></th>\n",
       "    </tr>\n",
       "  </thead>\n",
       "  <tbody>\n",
       "    <tr>\n",
       "      <th>night</th>\n",
       "      <td>00:00:13.222265</td>\n",
       "      <td>03:33:07.757714</td>\n",
       "    </tr>\n",
       "    <tr>\n",
       "      <th>early morning</th>\n",
       "      <td>04:08:53.496691</td>\n",
       "      <td>04:31:41.164007</td>\n",
       "    </tr>\n",
       "    <tr>\n",
       "      <th>morning</th>\n",
       "      <td>08:16:03.918402</td>\n",
       "      <td>10:57:37.331258</td>\n",
       "    </tr>\n",
       "    <tr>\n",
       "      <th>afternoon</th>\n",
       "      <td>11:02:12.343448</td>\n",
       "      <td>16:57:03.848299</td>\n",
       "    </tr>\n",
       "    <tr>\n",
       "      <th>early evening</th>\n",
       "      <td>17:03:01.606846</td>\n",
       "      <td>19:55:52.386379</td>\n",
       "    </tr>\n",
       "    <tr>\n",
       "      <th>evening</th>\n",
       "      <td>20:00:22.994929</td>\n",
       "      <td>23:59:38.758438</td>\n",
       "    </tr>\n",
       "  </tbody>\n",
       "</table>\n",
       "</div>"
      ],
      "text/plain": [
       "                           min              max\n",
       "daytime                                        \n",
       "night          00:00:13.222265  03:33:07.757714\n",
       "early morning  04:08:53.496691  04:31:41.164007\n",
       "morning        08:16:03.918402  10:57:37.331258\n",
       "afternoon      11:02:12.343448  16:57:03.848299\n",
       "early evening  17:03:01.606846  19:55:52.386379\n",
       "evening        20:00:22.994929  23:59:38.758438"
      ]
     },
     "execution_count": 55,
     "metadata": {},
     "output_type": "execute_result"
    }
   ],
   "source": [
    "# checking\n",
    "# df.assign(time=lambda x: x.datetime.dt.time).groupby('daytime').time.agg(['min', 'max'])"
   ]
  },
  {
   "cell_type": "markdown",
   "id": "rocky-patient",
   "metadata": {},
   "source": [
    "## Count"
   ]
  },
  {
   "cell_type": "code",
   "execution_count": 45,
   "id": "experienced-standing",
   "metadata": {},
   "outputs": [
    {
     "data": {
      "text/plain": [
       "8608"
      ]
     },
     "execution_count": 45,
     "metadata": {},
     "output_type": "execute_result"
    }
   ],
   "source": [
    "df.count().sum()"
   ]
  },
  {
   "cell_type": "code",
   "execution_count": 46,
   "id": "italic-spouse",
   "metadata": {},
   "outputs": [
    {
     "data": {
      "text/plain": [
       "evening          509\n",
       "afternoon        252\n",
       "early evening    145\n",
       "night            129\n",
       "morning           36\n",
       "early morning      5\n",
       "Name: daytime, dtype: int64"
      ]
     },
     "execution_count": 46,
     "metadata": {},
     "output_type": "execute_result"
    }
   ],
   "source": [
    "df.daytime.value_counts()"
   ]
  },
  {
   "cell_type": "markdown",
   "id": "complex-biotechnology",
   "metadata": {},
   "source": [
    "## Sort"
   ]
  },
  {
   "cell_type": "code",
   "execution_count": 47,
   "id": "centered-marriage",
   "metadata": {},
   "outputs": [
    {
     "data": {
      "text/html": [
       "<div>\n",
       "<style scoped>\n",
       "    .dataframe tbody tr th:only-of-type {\n",
       "        vertical-align: middle;\n",
       "    }\n",
       "\n",
       "    .dataframe tbody tr th {\n",
       "        vertical-align: top;\n",
       "    }\n",
       "\n",
       "    .dataframe thead th {\n",
       "        text-align: right;\n",
       "    }\n",
       "</style>\n",
       "<table border=\"1\" class=\"dataframe\">\n",
       "  <thead>\n",
       "    <tr style=\"text-align: right;\">\n",
       "      <th></th>\n",
       "      <th>datetime</th>\n",
       "      <th>year</th>\n",
       "      <th>month</th>\n",
       "      <th>day</th>\n",
       "      <th>hour</th>\n",
       "      <th>minute</th>\n",
       "      <th>second</th>\n",
       "      <th>daytime</th>\n",
       "    </tr>\n",
       "    <tr>\n",
       "      <th>user</th>\n",
       "      <th></th>\n",
       "      <th></th>\n",
       "      <th></th>\n",
       "      <th></th>\n",
       "      <th></th>\n",
       "      <th></th>\n",
       "      <th></th>\n",
       "      <th></th>\n",
       "    </tr>\n",
       "  </thead>\n",
       "  <tbody>\n",
       "    <tr>\n",
       "      <th>valentina</th>\n",
       "      <td>2020-05-15 00:00:13.222265</td>\n",
       "      <td>2020</td>\n",
       "      <td>5</td>\n",
       "      <td>15</td>\n",
       "      <td>0</td>\n",
       "      <td>0</td>\n",
       "      <td>13</td>\n",
       "      <td>night</td>\n",
       "    </tr>\n",
       "    <tr>\n",
       "      <th>valentina</th>\n",
       "      <td>2020-05-15 00:01:05.153738</td>\n",
       "      <td>2020</td>\n",
       "      <td>5</td>\n",
       "      <td>15</td>\n",
       "      <td>0</td>\n",
       "      <td>1</td>\n",
       "      <td>5</td>\n",
       "      <td>night</td>\n",
       "    </tr>\n",
       "    <tr>\n",
       "      <th>pavel</th>\n",
       "      <td>2020-05-12 00:01:27.764025</td>\n",
       "      <td>2020</td>\n",
       "      <td>5</td>\n",
       "      <td>12</td>\n",
       "      <td>0</td>\n",
       "      <td>1</td>\n",
       "      <td>27</td>\n",
       "      <td>night</td>\n",
       "    </tr>\n",
       "    <tr>\n",
       "      <th>pavel</th>\n",
       "      <td>2020-05-12 00:01:38.444917</td>\n",
       "      <td>2020</td>\n",
       "      <td>5</td>\n",
       "      <td>12</td>\n",
       "      <td>0</td>\n",
       "      <td>1</td>\n",
       "      <td>38</td>\n",
       "      <td>night</td>\n",
       "    </tr>\n",
       "    <tr>\n",
       "      <th>pavel</th>\n",
       "      <td>2020-05-12 00:01:55.395042</td>\n",
       "      <td>2020</td>\n",
       "      <td>5</td>\n",
       "      <td>12</td>\n",
       "      <td>0</td>\n",
       "      <td>1</td>\n",
       "      <td>55</td>\n",
       "      <td>night</td>\n",
       "    </tr>\n",
       "    <tr>\n",
       "      <th>...</th>\n",
       "      <td>...</td>\n",
       "      <td>...</td>\n",
       "      <td>...</td>\n",
       "      <td>...</td>\n",
       "      <td>...</td>\n",
       "      <td>...</td>\n",
       "      <td>...</td>\n",
       "      <td>...</td>\n",
       "    </tr>\n",
       "    <tr>\n",
       "      <th>artem</th>\n",
       "      <td>2020-05-21 23:49:22.386789</td>\n",
       "      <td>2020</td>\n",
       "      <td>5</td>\n",
       "      <td>21</td>\n",
       "      <td>23</td>\n",
       "      <td>49</td>\n",
       "      <td>22</td>\n",
       "      <td>evening</td>\n",
       "    </tr>\n",
       "    <tr>\n",
       "      <th>anatoliy</th>\n",
       "      <td>2020-05-09 23:53:55.599821</td>\n",
       "      <td>2020</td>\n",
       "      <td>5</td>\n",
       "      <td>9</td>\n",
       "      <td>23</td>\n",
       "      <td>53</td>\n",
       "      <td>55</td>\n",
       "      <td>evening</td>\n",
       "    </tr>\n",
       "    <tr>\n",
       "      <th>pavel</th>\n",
       "      <td>2020-05-09 23:54:54.260791</td>\n",
       "      <td>2020</td>\n",
       "      <td>5</td>\n",
       "      <td>9</td>\n",
       "      <td>23</td>\n",
       "      <td>54</td>\n",
       "      <td>54</td>\n",
       "      <td>evening</td>\n",
       "    </tr>\n",
       "    <tr>\n",
       "      <th>valentina</th>\n",
       "      <td>2020-05-14 23:58:56.754866</td>\n",
       "      <td>2020</td>\n",
       "      <td>5</td>\n",
       "      <td>14</td>\n",
       "      <td>23</td>\n",
       "      <td>58</td>\n",
       "      <td>56</td>\n",
       "      <td>evening</td>\n",
       "    </tr>\n",
       "    <tr>\n",
       "      <th>alexander</th>\n",
       "      <td>2020-05-14 23:59:38.758438</td>\n",
       "      <td>2020</td>\n",
       "      <td>5</td>\n",
       "      <td>14</td>\n",
       "      <td>23</td>\n",
       "      <td>59</td>\n",
       "      <td>38</td>\n",
       "      <td>evening</td>\n",
       "    </tr>\n",
       "  </tbody>\n",
       "</table>\n",
       "<p>1076 rows × 8 columns</p>\n",
       "</div>"
      ],
      "text/plain": [
       "                            datetime  year  month  day  hour  minute  second  \\\n",
       "user                                                                           \n",
       "valentina 2020-05-15 00:00:13.222265  2020      5   15     0       0      13   \n",
       "valentina 2020-05-15 00:01:05.153738  2020      5   15     0       1       5   \n",
       "pavel     2020-05-12 00:01:27.764025  2020      5   12     0       1      27   \n",
       "pavel     2020-05-12 00:01:38.444917  2020      5   12     0       1      38   \n",
       "pavel     2020-05-12 00:01:55.395042  2020      5   12     0       1      55   \n",
       "...                              ...   ...    ...  ...   ...     ...     ...   \n",
       "artem     2020-05-21 23:49:22.386789  2020      5   21    23      49      22   \n",
       "anatoliy  2020-05-09 23:53:55.599821  2020      5    9    23      53      55   \n",
       "pavel     2020-05-09 23:54:54.260791  2020      5    9    23      54      54   \n",
       "valentina 2020-05-14 23:58:56.754866  2020      5   14    23      58      56   \n",
       "alexander 2020-05-14 23:59:38.758438  2020      5   14    23      59      38   \n",
       "\n",
       "           daytime  \n",
       "user                \n",
       "valentina    night  \n",
       "valentina    night  \n",
       "pavel        night  \n",
       "pavel        night  \n",
       "pavel        night  \n",
       "...            ...  \n",
       "artem      evening  \n",
       "anatoliy   evening  \n",
       "pavel      evening  \n",
       "valentina  evening  \n",
       "alexander  evening  \n",
       "\n",
       "[1076 rows x 8 columns]"
      ]
     },
     "execution_count": 47,
     "metadata": {},
     "output_type": "execute_result"
    }
   ],
   "source": [
    "df.sort_values(['hour', 'minute', 'second'])"
   ]
  },
  {
   "cell_type": "markdown",
   "id": "every-august",
   "metadata": {},
   "source": [
    "## Min | Max"
   ]
  },
  {
   "cell_type": "code",
   "execution_count": 48,
   "id": "alert-painting",
   "metadata": {},
   "outputs": [
    {
     "data": {
      "text/plain": [
       "3"
      ]
     },
     "execution_count": 48,
     "metadata": {},
     "output_type": "execute_result"
    }
   ],
   "source": [
    "max_hour_night = df.query('daytime == \"night\"').hour.max()\n",
    "max_hour_night"
   ]
  },
  {
   "cell_type": "code",
   "execution_count": 49,
   "id": "everyday-johnston",
   "metadata": {},
   "outputs": [
    {
     "data": {
      "text/plain": [
       "8"
      ]
     },
     "execution_count": 49,
     "metadata": {},
     "output_type": "execute_result"
    }
   ],
   "source": [
    "min_hour_morning = df.query('daytime == \"morning\"').hour.min()\n",
    "min_hour_morning"
   ]
  },
  {
   "cell_type": "code",
   "execution_count": 50,
   "id": "nasty-people",
   "metadata": {},
   "outputs": [
    {
     "data": {
      "text/html": [
       "<div>\n",
       "<style scoped>\n",
       "    .dataframe tbody tr th:only-of-type {\n",
       "        vertical-align: middle;\n",
       "    }\n",
       "\n",
       "    .dataframe tbody tr th {\n",
       "        vertical-align: top;\n",
       "    }\n",
       "\n",
       "    .dataframe thead th {\n",
       "        text-align: right;\n",
       "    }\n",
       "</style>\n",
       "<table border=\"1\" class=\"dataframe\">\n",
       "  <thead>\n",
       "    <tr style=\"text-align: right;\">\n",
       "      <th></th>\n",
       "      <th>datetime</th>\n",
       "      <th>year</th>\n",
       "      <th>month</th>\n",
       "      <th>day</th>\n",
       "      <th>hour</th>\n",
       "      <th>minute</th>\n",
       "      <th>second</th>\n",
       "      <th>daytime</th>\n",
       "    </tr>\n",
       "    <tr>\n",
       "      <th>user</th>\n",
       "      <th></th>\n",
       "      <th></th>\n",
       "      <th></th>\n",
       "      <th></th>\n",
       "      <th></th>\n",
       "      <th></th>\n",
       "      <th></th>\n",
       "      <th></th>\n",
       "    </tr>\n",
       "  </thead>\n",
       "  <tbody>\n",
       "    <tr>\n",
       "      <th>alexander</th>\n",
       "      <td>2020-05-15 08:35:01.471463</td>\n",
       "      <td>2020</td>\n",
       "      <td>5</td>\n",
       "      <td>15</td>\n",
       "      <td>8</td>\n",
       "      <td>35</td>\n",
       "      <td>1</td>\n",
       "      <td>morning</td>\n",
       "    </tr>\n",
       "  </tbody>\n",
       "</table>\n",
       "</div>"
      ],
      "text/plain": [
       "                            datetime  year  month  day  hour  minute  second  \\\n",
       "user                                                                           \n",
       "alexander 2020-05-15 08:35:01.471463  2020      5   15     8      35       1   \n",
       "\n",
       "           daytime  \n",
       "user                \n",
       "alexander  morning  "
      ]
     },
     "execution_count": 50,
     "metadata": {},
     "output_type": "execute_result"
    }
   ],
   "source": [
    "df[df.hour.isin([min_hour_morning, max_hour_night])].sample(random_state=21)"
   ]
  },
  {
   "cell_type": "code",
   "execution_count": 51,
   "id": "aggregate-routine",
   "metadata": {},
   "outputs": [
    {
     "data": {
      "text/plain": [
       "hour            22\n",
       "daytime    evening\n",
       "Name: 0, dtype: object"
      ]
     },
     "execution_count": 51,
     "metadata": {},
     "output_type": "execute_result"
    }
   ],
   "source": [
    "df[['hour', 'daytime']].mode().loc[0]"
   ]
  },
  {
   "cell_type": "markdown",
   "id": "parliamentary-archives",
   "metadata": {},
   "source": [
    "## Smallest | Largest"
   ]
  },
  {
   "cell_type": "code",
   "execution_count": 52,
   "id": "reflected-olympus",
   "metadata": {},
   "outputs": [
    {
     "data": {
      "text/plain": [
       "user\n",
       "alexander    8\n",
       "alexander    8\n",
       "artem        9\n",
       "Name: hour, dtype: int64"
      ]
     },
     "execution_count": 52,
     "metadata": {},
     "output_type": "execute_result"
    }
   ],
   "source": [
    "df.query('daytime == \"morning\"').nsmallest(3, 'hour')['hour']"
   ]
  },
  {
   "cell_type": "code",
   "execution_count": 53,
   "id": "similar-victor",
   "metadata": {},
   "outputs": [
    {
     "data": {
      "text/plain": [
       "user\n",
       "konstantin    10\n",
       "maxim         10\n",
       "konstantin    10\n",
       "Name: hour, dtype: int64"
      ]
     },
     "execution_count": 53,
     "metadata": {},
     "output_type": "execute_result"
    }
   ],
   "source": [
    "df.query('daytime == \"morning\"').nlargest(3, 'hour')['hour']"
   ]
  },
  {
   "cell_type": "markdown",
   "id": "extreme-bathroom",
   "metadata": {},
   "source": [
    "## Describe"
   ]
  },
  {
   "cell_type": "code",
   "execution_count": 54,
   "id": "parliamentary-transsexual",
   "metadata": {},
   "outputs": [
    {
     "data": {
      "text/plain": [
       "9.0"
      ]
     },
     "execution_count": 54,
     "metadata": {},
     "output_type": "execute_result"
    }
   ],
   "source": [
    "hour_stats = df.describe()['hour']\n",
    "iqr = hour_stats['75%'] - hour_stats['25%']\n",
    "iqr"
   ]
  },
  {
   "cell_type": "code",
   "execution_count": null,
   "id": "micro-sleeve",
   "metadata": {},
   "outputs": [],
   "source": []
  },
  {
   "cell_type": "code",
   "execution_count": null,
   "id": "parental-charles",
   "metadata": {},
   "outputs": [],
   "source": []
  }
 ],
 "metadata": {
  "kernelspec": {
   "display_name": "Python 3",
   "language": "python",
   "name": "python3"
  },
  "language_info": {
   "codemirror_mode": {
    "name": "ipython",
    "version": 3
   },
   "file_extension": ".py",
   "mimetype": "text/x-python",
   "name": "python",
   "nbconvert_exporter": "python",
   "pygments_lexer": "ipython3",
   "version": "3.8.0"
  },
  "toc": {
   "base_numbering": 1,
   "nav_menu": {},
   "number_sections": true,
   "sideBar": true,
   "skip_h1_title": false,
   "title_cell": "Table of Contents",
   "title_sidebar": "Contents",
   "toc_cell": false,
   "toc_position": {},
   "toc_section_display": true,
   "toc_window_display": false
  }
 },
 "nbformat": 4,
 "nbformat_minor": 5
}
