{
 "cells": [
  {
   "cell_type": "markdown",
   "id": "optical-transcript",
   "metadata": {},
   "source": [
    "## Read csv"
   ]
  },
  {
   "cell_type": "code",
   "execution_count": 1,
   "id": "nonprofit-presentation",
   "metadata": {},
   "outputs": [
    {
     "name": "stderr",
     "output_type": "stream",
     "text": [
      "/Users/a19028558/Desktop/transfer_accounts/akovyaz/learning_myself/env_school/lib/python3.8/site-packages/pandas/compat/__init__.py:97: UserWarning: Could not import the lzma module. Your installed Python is incomplete. Attempting to use lzma compression will result in a RuntimeError.\n",
      "  warnings.warn(msg)\n"
     ]
    }
   ],
   "source": [
    "import pandas as pd\n",
    "import gc"
   ]
  },
  {
   "cell_type": "code",
   "execution_count": 2,
   "id": "comparable-fisher",
   "metadata": {},
   "outputs": [],
   "source": [
    "df = pd.read_csv('../data/fines.csv')"
   ]
  },
  {
   "cell_type": "code",
   "execution_count": 3,
   "id": "fiscal-henry",
   "metadata": {},
   "outputs": [
    {
     "name": "stdout",
     "output_type": "stream",
     "text": [
      "117 ms ± 5.44 ms per loop (mean ± std. dev. of 7 runs, 10 loops each)\n"
     ]
    }
   ],
   "source": [
    "%%timeit\n",
    "# loop\n",
    "res = []\n",
    "for i in range(0, len(df)):\n",
    "    ser = df.iloc[i]\n",
    "    res.append(ser.Fines/ser.Refund*ser.Year)"
   ]
  },
  {
   "cell_type": "code",
   "execution_count": 4,
   "id": "defensive-cartoon",
   "metadata": {},
   "outputs": [
    {
     "name": "stdout",
     "output_type": "stream",
     "text": [
      "74 ms ± 1.86 ms per loop (mean ± std. dev. of 7 runs, 10 loops each)\n"
     ]
    }
   ],
   "source": [
    "%%timeit\n",
    "# iterrows\n",
    "res = []\n",
    "for _, ser in df.iterrows():\n",
    "    res.append(ser.Fines/ser.Refund*ser.Year)"
   ]
  },
  {
   "cell_type": "code",
   "execution_count": 5,
   "id": "fixed-audio",
   "metadata": {},
   "outputs": [
    {
     "name": "stdout",
     "output_type": "stream",
     "text": [
      "19.6 ms ± 1.19 ms per loop (mean ± std. dev. of 7 runs, 100 loops each)\n"
     ]
    }
   ],
   "source": [
    "%%timeit\n",
    "df.apply(lambda ser: ser.Fines/ser.Refund*ser.Year, axis=1)"
   ]
  },
  {
   "cell_type": "code",
   "execution_count": 6,
   "id": "changing-roulette",
   "metadata": {},
   "outputs": [
    {
     "name": "stdout",
     "output_type": "stream",
     "text": [
      "189 µs ± 5 µs per loop (mean ± std. dev. of 7 runs, 10000 loops each)\n"
     ]
    }
   ],
   "source": [
    "%%timeit\n",
    "df['Fines']/df['Refund']*df['Year']"
   ]
  },
  {
   "cell_type": "code",
   "execution_count": 7,
   "id": "balanced-health",
   "metadata": {},
   "outputs": [
    {
     "name": "stdout",
     "output_type": "stream",
     "text": [
      "11.5 µs ± 156 ns per loop (mean ± std. dev. of 7 runs, 100000 loops each)\n"
     ]
    }
   ],
   "source": [
    "%%timeit\n",
    "df['Fines'].values/df['Refund'].values*df['Year'].values"
   ]
  },
  {
   "cell_type": "markdown",
   "id": "lyric-metadata",
   "metadata": {},
   "source": [
    "## Indexing"
   ]
  },
  {
   "cell_type": "code",
   "execution_count": 8,
   "id": "royal-nicaragua",
   "metadata": {},
   "outputs": [
    {
     "name": "stdout",
     "output_type": "stream",
     "text": [
      "339 µs ± 7.42 µs per loop (mean ± std. dev. of 7 runs, 1000 loops each)\n"
     ]
    }
   ],
   "source": [
    "%%timeit\n",
    "df[df.CarNumber == 'O136HO197RUS']"
   ]
  },
  {
   "cell_type": "code",
   "execution_count": 9,
   "id": "derived-hours",
   "metadata": {},
   "outputs": [],
   "source": [
    "df.set_index('CarNumber', inplace=True)"
   ]
  },
  {
   "cell_type": "code",
   "execution_count": 10,
   "id": "obvious-nickel",
   "metadata": {},
   "outputs": [
    {
     "name": "stdout",
     "output_type": "stream",
     "text": [
      "196 µs ± 5.2 µs per loop (mean ± std. dev. of 7 runs, 1000 loops each)\n"
     ]
    }
   ],
   "source": [
    "%%timeit\n",
    "df.loc['O136HO197RUS']"
   ]
  },
  {
   "cell_type": "markdown",
   "id": "changed-therapist",
   "metadata": {},
   "source": [
    "## Downcasting"
   ]
  },
  {
   "cell_type": "code",
   "execution_count": 11,
   "id": "joint-inside",
   "metadata": {},
   "outputs": [
    {
     "name": "stdout",
     "output_type": "stream",
     "text": [
      "<class 'pandas.core.frame.DataFrame'>\n",
      "Index: 930 entries, Y163O8161RUS to Z364C8197RUS\n",
      "Data columns (total 10 columns):\n",
      " #   Column         Non-Null Count  Dtype  \n",
      "---  ------         --------------  -----  \n",
      " 0   Refund         930 non-null    int64  \n",
      " 1   Fines          930 non-null    float64\n",
      " 2   Mark           930 non-null    object \n",
      " 3   Model          919 non-null    object \n",
      " 4   Year           930 non-null    int64  \n",
      " 5   Millennium     5 non-null      float64\n",
      " 6   Ths_fine       5 non-null      float64\n",
      " 7   Cents          5 non-null      float64\n",
      " 8   Is_new_car     5 non-null      object \n",
      " 9   Is_rarity_car  5 non-null      object \n",
      "dtypes: float64(4), int64(2), object(4)\n",
      "memory usage: 292.5 KB\n"
     ]
    }
   ],
   "source": [
    "df.info(memory_usage='deep')"
   ]
  },
  {
   "cell_type": "code",
   "execution_count": 12,
   "id": "authorized-dining",
   "metadata": {},
   "outputs": [],
   "source": [
    "optimized = df.copy()"
   ]
  },
  {
   "cell_type": "code",
   "execution_count": 13,
   "id": "trained-variety",
   "metadata": {},
   "outputs": [],
   "source": [
    "optimized['Fines'] = optimized.Fines.astype('float32')"
   ]
  },
  {
   "cell_type": "code",
   "execution_count": 14,
   "id": "brilliant-experiment",
   "metadata": {},
   "outputs": [],
   "source": [
    "tmp_colums = optimized.dtypes[optimized.dtypes == 'int64'].index\n",
    "optimized.loc[:, tmp_colums] = optimized[tmp_colums].astype('int8')"
   ]
  },
  {
   "cell_type": "code",
   "execution_count": 15,
   "id": "charged-nebraska",
   "metadata": {},
   "outputs": [
    {
     "name": "stdout",
     "output_type": "stream",
     "text": [
      "<class 'pandas.core.frame.DataFrame'>\n",
      "Index: 930 entries, Y163O8161RUS to Z364C8197RUS\n",
      "Data columns (total 10 columns):\n",
      " #   Column         Non-Null Count  Dtype  \n",
      "---  ------         --------------  -----  \n",
      " 0   Refund         930 non-null    int8   \n",
      " 1   Fines          930 non-null    float32\n",
      " 2   Mark           930 non-null    object \n",
      " 3   Model          919 non-null    object \n",
      " 4   Year           930 non-null    int8   \n",
      " 5   Millennium     5 non-null      float64\n",
      " 6   Ths_fine       5 non-null      float64\n",
      " 7   Cents          5 non-null      float64\n",
      " 8   Is_new_car     5 non-null      object \n",
      " 9   Is_rarity_car  5 non-null      object \n",
      "dtypes: float32(1), float64(3), int8(2), object(4)\n",
      "memory usage: 276.2 KB\n"
     ]
    }
   ],
   "source": [
    "optimized.info(memory_usage='deep')"
   ]
  },
  {
   "cell_type": "markdown",
   "id": "stuffed-empire",
   "metadata": {},
   "source": [
    "## Categories"
   ]
  },
  {
   "cell_type": "code",
   "execution_count": 16,
   "id": "artificial-consciousness",
   "metadata": {},
   "outputs": [],
   "source": [
    "tmp_colums = optimized.dtypes[optimized.dtypes == 'object'].index\n",
    "optimized.loc[:, tmp_colums] = optimized[tmp_colums].astype('category')"
   ]
  },
  {
   "cell_type": "code",
   "execution_count": 17,
   "id": "informational-miller",
   "metadata": {},
   "outputs": [
    {
     "data": {
      "text/html": [
       "<div>\n",
       "<style scoped>\n",
       "    .dataframe tbody tr th:only-of-type {\n",
       "        vertical-align: middle;\n",
       "    }\n",
       "\n",
       "    .dataframe tbody tr th {\n",
       "        vertical-align: top;\n",
       "    }\n",
       "\n",
       "    .dataframe thead th {\n",
       "        text-align: right;\n",
       "    }\n",
       "</style>\n",
       "<table border=\"1\" class=\"dataframe\">\n",
       "  <thead>\n",
       "    <tr style=\"text-align: right;\">\n",
       "      <th></th>\n",
       "      <th>Refund</th>\n",
       "      <th>Fines</th>\n",
       "      <th>Mark</th>\n",
       "      <th>Model</th>\n",
       "      <th>Year</th>\n",
       "      <th>Millennium</th>\n",
       "      <th>Ths_fine</th>\n",
       "      <th>Cents</th>\n",
       "      <th>Is_new_car</th>\n",
       "      <th>Is_rarity_car</th>\n",
       "    </tr>\n",
       "    <tr>\n",
       "      <th>CarNumber</th>\n",
       "      <th></th>\n",
       "      <th></th>\n",
       "      <th></th>\n",
       "      <th></th>\n",
       "      <th></th>\n",
       "      <th></th>\n",
       "      <th></th>\n",
       "      <th></th>\n",
       "      <th></th>\n",
       "      <th></th>\n",
       "    </tr>\n",
       "  </thead>\n",
       "  <tbody>\n",
       "    <tr>\n",
       "      <th>Y163O8161RUS</th>\n",
       "      <td>2</td>\n",
       "      <td>3200.0</td>\n",
       "      <td>Ford</td>\n",
       "      <td>Focus</td>\n",
       "      <td>-59</td>\n",
       "      <td>NaN</td>\n",
       "      <td>NaN</td>\n",
       "      <td>NaN</td>\n",
       "      <td>NaN</td>\n",
       "      <td>NaN</td>\n",
       "    </tr>\n",
       "    <tr>\n",
       "      <th>E432XX77RUS</th>\n",
       "      <td>1</td>\n",
       "      <td>6500.0</td>\n",
       "      <td>Toyota</td>\n",
       "      <td>Camry</td>\n",
       "      <td>-53</td>\n",
       "      <td>NaN</td>\n",
       "      <td>NaN</td>\n",
       "      <td>NaN</td>\n",
       "      <td>NaN</td>\n",
       "      <td>NaN</td>\n",
       "    </tr>\n",
       "    <tr>\n",
       "      <th>7184TT36RUS</th>\n",
       "      <td>1</td>\n",
       "      <td>2100.0</td>\n",
       "      <td>Ford</td>\n",
       "      <td>Focus</td>\n",
       "      <td>-64</td>\n",
       "      <td>NaN</td>\n",
       "      <td>NaN</td>\n",
       "      <td>NaN</td>\n",
       "      <td>NaN</td>\n",
       "      <td>NaN</td>\n",
       "    </tr>\n",
       "    <tr>\n",
       "      <th>X582HE161RUS</th>\n",
       "      <td>2</td>\n",
       "      <td>2000.0</td>\n",
       "      <td>Ford</td>\n",
       "      <td>Focus</td>\n",
       "      <td>-33</td>\n",
       "      <td>NaN</td>\n",
       "      <td>NaN</td>\n",
       "      <td>NaN</td>\n",
       "      <td>NaN</td>\n",
       "      <td>NaN</td>\n",
       "    </tr>\n",
       "    <tr>\n",
       "      <th>92918M178RUS</th>\n",
       "      <td>1</td>\n",
       "      <td>5700.0</td>\n",
       "      <td>Ford</td>\n",
       "      <td>Focus</td>\n",
       "      <td>-34</td>\n",
       "      <td>NaN</td>\n",
       "      <td>NaN</td>\n",
       "      <td>NaN</td>\n",
       "      <td>NaN</td>\n",
       "      <td>NaN</td>\n",
       "    </tr>\n",
       "    <tr>\n",
       "      <th>...</th>\n",
       "      <td>...</td>\n",
       "      <td>...</td>\n",
       "      <td>...</td>\n",
       "      <td>...</td>\n",
       "      <td>...</td>\n",
       "      <td>...</td>\n",
       "      <td>...</td>\n",
       "      <td>...</td>\n",
       "      <td>...</td>\n",
       "      <td>...</td>\n",
       "    </tr>\n",
       "    <tr>\n",
       "      <th>K364C8197RUS</th>\n",
       "      <td>2</td>\n",
       "      <td>4500.0</td>\n",
       "      <td>Ford</td>\n",
       "      <td>Focus</td>\n",
       "      <td>-37</td>\n",
       "      <td>2.0</td>\n",
       "      <td>4.0</td>\n",
       "      <td>0.0</td>\n",
       "      <td>True</td>\n",
       "      <td>False</td>\n",
       "    </tr>\n",
       "    <tr>\n",
       "      <th>M364C8197RUS</th>\n",
       "      <td>2</td>\n",
       "      <td>4500.0</td>\n",
       "      <td>Ford</td>\n",
       "      <td>Focus</td>\n",
       "      <td>-37</td>\n",
       "      <td>2.0</td>\n",
       "      <td>4.0</td>\n",
       "      <td>0.0</td>\n",
       "      <td>True</td>\n",
       "      <td>False</td>\n",
       "    </tr>\n",
       "    <tr>\n",
       "      <th>X364C8197RUS</th>\n",
       "      <td>2</td>\n",
       "      <td>4500.0</td>\n",
       "      <td>Ford</td>\n",
       "      <td>Focus</td>\n",
       "      <td>-37</td>\n",
       "      <td>2.0</td>\n",
       "      <td>4.0</td>\n",
       "      <td>0.0</td>\n",
       "      <td>True</td>\n",
       "      <td>False</td>\n",
       "    </tr>\n",
       "    <tr>\n",
       "      <th>Y364C8197RUS</th>\n",
       "      <td>2</td>\n",
       "      <td>4500.0</td>\n",
       "      <td>Ford</td>\n",
       "      <td>Focus</td>\n",
       "      <td>-37</td>\n",
       "      <td>2.0</td>\n",
       "      <td>4.0</td>\n",
       "      <td>0.0</td>\n",
       "      <td>True</td>\n",
       "      <td>False</td>\n",
       "    </tr>\n",
       "    <tr>\n",
       "      <th>Z364C8197RUS</th>\n",
       "      <td>2</td>\n",
       "      <td>4500.0</td>\n",
       "      <td>Ford</td>\n",
       "      <td>Focus</td>\n",
       "      <td>-37</td>\n",
       "      <td>2.0</td>\n",
       "      <td>4.0</td>\n",
       "      <td>0.0</td>\n",
       "      <td>True</td>\n",
       "      <td>False</td>\n",
       "    </tr>\n",
       "  </tbody>\n",
       "</table>\n",
       "<p>930 rows × 10 columns</p>\n",
       "</div>"
      ],
      "text/plain": [
       "              Refund   Fines    Mark  Model  Year  Millennium  Ths_fine  \\\n",
       "CarNumber                                                                 \n",
       "Y163O8161RUS       2  3200.0    Ford  Focus   -59         NaN       NaN   \n",
       "E432XX77RUS        1  6500.0  Toyota  Camry   -53         NaN       NaN   \n",
       "7184TT36RUS        1  2100.0    Ford  Focus   -64         NaN       NaN   \n",
       "X582HE161RUS       2  2000.0    Ford  Focus   -33         NaN       NaN   \n",
       "92918M178RUS       1  5700.0    Ford  Focus   -34         NaN       NaN   \n",
       "...              ...     ...     ...    ...   ...         ...       ...   \n",
       "K364C8197RUS       2  4500.0    Ford  Focus   -37         2.0       4.0   \n",
       "M364C8197RUS       2  4500.0    Ford  Focus   -37         2.0       4.0   \n",
       "X364C8197RUS       2  4500.0    Ford  Focus   -37         2.0       4.0   \n",
       "Y364C8197RUS       2  4500.0    Ford  Focus   -37         2.0       4.0   \n",
       "Z364C8197RUS       2  4500.0    Ford  Focus   -37         2.0       4.0   \n",
       "\n",
       "              Cents Is_new_car Is_rarity_car  \n",
       "CarNumber                                     \n",
       "Y163O8161RUS    NaN        NaN           NaN  \n",
       "E432XX77RUS     NaN        NaN           NaN  \n",
       "7184TT36RUS     NaN        NaN           NaN  \n",
       "X582HE161RUS    NaN        NaN           NaN  \n",
       "92918M178RUS    NaN        NaN           NaN  \n",
       "...             ...        ...           ...  \n",
       "K364C8197RUS    0.0       True         False  \n",
       "M364C8197RUS    0.0       True         False  \n",
       "X364C8197RUS    0.0       True         False  \n",
       "Y364C8197RUS    0.0       True         False  \n",
       "Z364C8197RUS    0.0       True         False  \n",
       "\n",
       "[930 rows x 10 columns]"
      ]
     },
     "execution_count": 17,
     "metadata": {},
     "output_type": "execute_result"
    }
   ],
   "source": [
    "optimized"
   ]
  },
  {
   "cell_type": "code",
   "execution_count": 18,
   "id": "removable-nation",
   "metadata": {},
   "outputs": [
    {
     "name": "stdout",
     "output_type": "stream",
     "text": [
      "<class 'pandas.core.frame.DataFrame'>\n",
      "Index: 930 entries, Y163O8161RUS to Z364C8197RUS\n",
      "Data columns (total 10 columns):\n",
      " #   Column         Non-Null Count  Dtype   \n",
      "---  ------         --------------  -----   \n",
      " 0   Refund         930 non-null    int8    \n",
      " 1   Fines          930 non-null    float32 \n",
      " 2   Mark           930 non-null    category\n",
      " 3   Model          919 non-null    category\n",
      " 4   Year           930 non-null    int8    \n",
      " 5   Millennium     5 non-null      float64 \n",
      " 6   Ths_fine       5 non-null      float64 \n",
      " 7   Cents          5 non-null      float64 \n",
      " 8   Is_new_car     5 non-null      category\n",
      " 9   Is_rarity_car  5 non-null      category\n",
      "dtypes: category(4), float32(1), float64(3), int8(2)\n",
      "memory usage: 111.4 KB\n"
     ]
    }
   ],
   "source": [
    "optimized.info(memory_usage='deep')"
   ]
  },
  {
   "cell_type": "markdown",
   "id": "million-charlotte",
   "metadata": {},
   "source": [
    "## Memory clean"
   ]
  },
  {
   "cell_type": "code",
   "execution_count": 19,
   "id": "sustained-mission",
   "metadata": {},
   "outputs": [
    {
     "name": "stdout",
     "output_type": "stream",
     "text": [
      "Once deleted, variables cannot be recovered. Proceed (y/[n])?  y\n"
     ]
    },
    {
     "data": {
      "text/plain": [
       "20"
      ]
     },
     "execution_count": 19,
     "metadata": {},
     "output_type": "execute_result"
    }
   ],
   "source": [
    "%reset_selective df\n",
    "gc.collect()"
   ]
  },
  {
   "cell_type": "code",
   "execution_count": null,
   "id": "spectacular-contractor",
   "metadata": {},
   "outputs": [],
   "source": []
  }
 ],
 "metadata": {
  "kernelspec": {
   "display_name": "Python 3",
   "language": "python",
   "name": "python3"
  },
  "language_info": {
   "codemirror_mode": {
    "name": "ipython",
    "version": 3
   },
   "file_extension": ".py",
   "mimetype": "text/x-python",
   "name": "python",
   "nbconvert_exporter": "python",
   "pygments_lexer": "ipython3",
   "version": "3.8.0"
  },
  "toc": {
   "base_numbering": 1,
   "nav_menu": {},
   "number_sections": true,
   "sideBar": true,
   "skip_h1_title": false,
   "title_cell": "Table of Contents",
   "title_sidebar": "Contents",
   "toc_cell": false,
   "toc_position": {},
   "toc_section_display": true,
   "toc_window_display": false
  }
 },
 "nbformat": 4,
 "nbformat_minor": 5
}
